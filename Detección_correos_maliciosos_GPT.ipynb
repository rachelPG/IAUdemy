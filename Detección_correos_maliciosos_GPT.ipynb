{
  "nbformat": 4,
  "nbformat_minor": 0,
  "metadata": {
    "colab": {
      "provenance": [],
      "include_colab_link": true
    },
    "kernelspec": {
      "name": "python3",
      "display_name": "Python 3"
    },
    "language_info": {
      "name": "python"
    }
  },
  "cells": [
    {
      "cell_type": "markdown",
      "metadata": {
        "id": "view-in-github",
        "colab_type": "text"
      },
      "source": [
        "<a href=\"https://colab.research.google.com/github/rachelPG/IAUdemy/blob/main/Detecci%C3%B3n_correos_maliciosos_GPT.ipynb\" target=\"_parent\"><img src=\"https://colab.research.google.com/assets/colab-badge.svg\" alt=\"Open In Colab\"/></a>"
      ]
    },
    {
      "cell_type": "markdown",
      "metadata": {
        "id": "3cb7b12c"
      },
      "source": [
        "# Caso Práctico: Detección automática de correos maliciosos con GPT"
      ]
    },
    {
      "cell_type": "markdown",
      "metadata": {
        "id": "42e9ea52"
      },
      "source": [
        "<div style=\"background-color:#D9EEFF;color:black;padding:2%;\">\n",
        "<h2>Enunciado del caso práctico</h2>\n",
        "\n",
        "En este caso práctico, se propone al alumno el desarrollo de una aplicación que permita detectar de manera automática si un correo electrónico que llega a su bandeja de entrada es malicioso (SPAM o Phishing) o es benigno.\n",
        "\n",
        "Para ello, el alumno debe implementar un progorama en Python que acceda de manera programática a los servicios de OpenAI y le permita obtener la clasificación del correo electrónico utilizando un LLM.\n",
        "\n",
        "La aplicación debe ser lo más automática posible, integrandose con el servicio de correo electrónico del alumno para leer automáticamente los mensajes sin abrir de su bandeja de entrada y proporcionar un veredicto antes de que se abran.\n",
        "\n",
        "</div>"
      ]
    },
    {
      "cell_type": "markdown",
      "metadata": {
        "id": "831d29b1"
      },
      "source": [
        "# Resolución del caso práctico"
      ]
    },
    {
      "cell_type": "markdown",
      "source": [
        "## 0. Instalación de librerías externas"
      ],
      "metadata": {
        "id": "-V8dgd_BUeOK"
      }
    },
    {
      "cell_type": "code",
      "source": [
        "!pip install openai==0.28"
      ],
      "metadata": {
        "id": "ScQcgtCkUhD7"
      },
      "execution_count": null,
      "outputs": []
    },
    {
      "cell_type": "markdown",
      "metadata": {
        "id": "e7d620f6"
      },
      "source": [
        "## 1. Lectura de la API Key"
      ]
    },
    {
      "cell_type": "code",
      "source": [
        "import openai\n",
        "\n",
        "with open(\"/content/drive/MyDrive/api-keys/secret-key.txt\") as f:\n",
        "  openai.api_key = f.readline()"
      ],
      "metadata": {
        "id": "pVplMtLdUx2w"
      },
      "execution_count": null,
      "outputs": []
    },
    {
      "cell_type": "markdown",
      "source": [
        "## 2. Selección del modelo"
      ],
      "metadata": {
        "id": "kjNFCLMHWCXs"
      }
    },
    {
      "cell_type": "markdown",
      "source": [
        "OpenAI nos ofrece una amplia variedad de modelos que podemos utilizar de manera programática para diferentes tareas.\n",
        "\n",
        "Nosotros estamos interesados en LLMs específicamente entrenados para entender lenguaje natural e interactuar con el usuario en forma de chat.\n",
        "\n",
        "Teniendo esto en cuenta, podemos elegir entre los siguientes: https://platform.openai.com/docs/guides/gpt\n",
        "\n",
        "Para este caso práctico vamos a seleccionar `gpt-3.5-turbo`"
      ],
      "metadata": {
        "id": "OP3Zs5O1WHER"
      }
    },
    {
      "cell_type": "code",
      "source": [
        "def obtener_completion(prompt, model=\"gpt-3.5-turbo\"):\n",
        "  mensaje = [{\"role\": \"user\", \"content\": prompt}]\n",
        "  respuesta = openai.ChatCompletion.create(\n",
        "      model=model,\n",
        "      messages=mensaje,\n",
        "      temperature=0, # Este hiperparámetro controla la aleatoriedad del modelo\n",
        "  )\n",
        "  return respuesta.choices[0].message[\"content\"]"
      ],
      "metadata": {
        "id": "dkxOGRD-WF3p"
      },
      "execution_count": null,
      "outputs": []
    },
    {
      "cell_type": "markdown",
      "source": [
        "## 3. Detección de correos electrónicos maliciosos"
      ],
      "metadata": {
        "id": "Ej2wP15VXrPY"
      }
    },
    {
      "cell_type": "code",
      "source": [
        "def clasificar_email(correo):\n",
        "  \"\"\"Esta función identifica si un correo electrónico es malicioso o benigno.\"\"\"\n",
        "\n",
        "  prompt = f\"\"\"Actúa como si fueses el mayor experto en Ciberseguridad y análisis de correos electrónicos del mundo. A continuación te voy a proporcionar un email delimitado por triples comillas simples. Tu tarea es determinar si ese correo electrónico es malicioso (SPAM o Phishing) o Benigno. Para ello, realiza las siguientes acciones:\n",
        "1. Analiza muy en detalle todo el contenido del correo electrónico\n",
        "2. Extrae los patrones que consideras sospechosos desde el punto de vista de la seguridad\n",
        "3. Analiza estos patrones y razona detalladamente el motivo por el que pueden ser maliciosos en el contexto del mensaje completo\n",
        "4. Determina si el email es malioso o benigno.\n",
        "\n",
        "La salida que debes proporcionarme debe ser un JSON con las claves que se muestran a continuación. No debes proporcionar nada más como salida.\n",
        "{{\\\"clasificacion\\\":<MALICIOSO o BENIGNO>}}\n",
        "\n",
        "Email: '''{correo}'''\n",
        "\"\"\"\n",
        "  return obtener_completion(prompt)\n"
      ],
      "metadata": {
        "id": "IgZiyiKuFQAw"
      },
      "execution_count": null,
      "outputs": []
    },
    {
      "cell_type": "code",
      "source": [
        "correo1 = \"\"\"Hello Dear. I have a proposition for you, this however is not mandatory nor will I in any manner compel you to honor against your will.Let me start by introducing myself. I am  Mr Author Magnus, manager crew team. I have a mutual beneficial business suggestion for you and a very Important\n",
        " matter that we both had to engage in.\n",
        "\n",
        "1. Can you handle the project?\n",
        "\n",
        "2. Can I give you this trust ?\n",
        "\n",
        "3. Can we work together as partner?\n",
        "\n",
        "Absolute confidentiality is required from you.Besides I will use my connection to get some documents to back up the fund so that the fund can not be question by any authority. More information await you in my next response to your email.\n",
        "\n",
        "Treat as urgent.\n",
        "\n",
        "Yours Sincerely\n",
        "\n",
        "Author Magnus.\"\"\""
      ],
      "metadata": {
        "id": "oI59kOQqpSv2"
      },
      "execution_count": null,
      "outputs": []
    },
    {
      "cell_type": "code",
      "source": [
        "correo2 = \"\"\"Hola Santiago:\n",
        "\n",
        "Hay una nueva respuesta a \"Kali Linux en Hyper-V\" en tu curso \"Curso completo de Hacking Ético y Ciberseguridad\"\n",
        "\n",
        "Utiliza el botón de abajo para ver la respuesta e indicar si ha sido útil. Allí encontrarás un enlace para \"dejar de seguir\" si prefieres no recibir notificaciones de respuestas futuras.\"\"\""
      ],
      "metadata": {
        "id": "AERy9RKHpw6j"
      },
      "execution_count": null,
      "outputs": []
    },
    {
      "cell_type": "code",
      "source": [
        "clasificar_email(correo2)"
      ],
      "metadata": {
        "id": "GDOadRuBZJWp",
        "colab": {
          "base_uri": "https://localhost:8080/",
          "height": 35
        },
        "outputId": "bf75c349-146a-4758-b946-11a779540045"
      },
      "execution_count": null,
      "outputs": [
        {
          "output_type": "execute_result",
          "data": {
            "text/plain": [
              "'{\"clasificacion\":\"BENIGNO\"}'"
            ],
            "application/vnd.google.colaboratory.intrinsic+json": {
              "type": "string"
            }
          },
          "metadata": {},
          "execution_count": 10
        }
      ]
    },
    {
      "cell_type": "code",
      "source": [],
      "metadata": {
        "id": "Q8WExBrEF0qT"
      },
      "execution_count": null,
      "outputs": []
    }
  ]
}